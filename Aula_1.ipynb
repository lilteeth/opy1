{
  "nbformat": 4,
  "nbformat_minor": 0,
  "metadata": {
    "colab": {
      "name": "Aula 1.ipynb",
      "provenance": [],
      "authorship_tag": "ABX9TyMhHZHnF1O3gHj7Rpa4QLg5",
      "include_colab_link": true
    },
    "kernelspec": {
      "name": "python3",
      "display_name": "Python 3"
    },
    "language_info": {
      "name": "python"
    }
  },
  "cells": [
    {
      "cell_type": "markdown",
      "metadata": {
        "id": "view-in-github",
        "colab_type": "text"
      },
      "source": [
        "<a href=\"https://colab.research.google.com/github/lilteeth/opy1/blob/master/Aula_1.ipynb\" target=\"_parent\"><img src=\"https://colab.research.google.com/assets/colab-badge.svg\" alt=\"Open In Colab\"/></a>"
      ]
    },
    {
      "cell_type": "code",
      "execution_count": 1,
      "metadata": {
        "colab": {
          "base_uri": "https://localhost:8080/"
        },
        "id": "Ts3KBIMWBIgc",
        "outputId": "49dc8d44-b10b-41b5-c693-c618630cc9b7"
      },
      "outputs": [
        {
          "output_type": "stream",
          "name": "stdout",
          "text": [
            "Olá\n"
          ]
        }
      ],
      "source": [
        "print('Olá')\n"
      ]
    },
    {
      "cell_type": "code",
      "source": [
        "print(12*2)"
      ],
      "metadata": {
        "colab": {
          "base_uri": "https://localhost:8080/"
        },
        "id": "zarxLDsrBYd-",
        "outputId": "e90f044a-a347-4217-f3f2-a1bfd7a122e7"
      },
      "execution_count": 10,
      "outputs": [
        {
          "output_type": "stream",
          "name": "stdout",
          "text": [
            "24\n"
          ]
        }
      ]
    },
    {
      "cell_type": "code",
      "source": [
        "print(25,' de Fevereiro de ',2022,'.',sep='|')"
      ],
      "metadata": {
        "colab": {
          "base_uri": "https://localhost:8080/"
        },
        "id": "NXDzNvWKCUbw",
        "outputId": "74a18b06-5c25-446e-cbf1-90cdad2a3c55"
      },
      "execution_count": 15,
      "outputs": [
        {
          "output_type": "stream",
          "name": "stdout",
          "text": [
            "25| de Fevereiro de |2022|.\n"
          ]
        }
      ]
    },
    {
      "cell_type": "code",
      "source": [
        "nome = 'Alex Sandro Lopes da Silva Junior'\n",
        "print(nome)"
      ],
      "metadata": {
        "colab": {
          "base_uri": "https://localhost:8080/"
        },
        "id": "J7LRpar1EPit",
        "outputId": "17dbc09d-82a7-450c-a14e-93b8e5519a3b"
      },
      "execution_count": 31,
      "outputs": [
        {
          "output_type": "stream",
          "name": "stdout",
          "text": [
            "Alex Sandro Lopes da Silva Junior\n"
          ]
        }
      ]
    },
    {
      "cell_type": "code",
      "source": [
        "x = False"
      ],
      "metadata": {
        "id": "eO8KSGijGFDO"
      },
      "execution_count": 29,
      "outputs": []
    },
    {
      "cell_type": "code",
      "source": [
        "print(nome)\n",
        "print(type(nome))\n",
        "print(type(x))\n"
      ],
      "metadata": {
        "colab": {
          "base_uri": "https://localhost:8080/"
        },
        "id": "GE2oQvJBGHsf",
        "outputId": "43f38c06-4697-4fbd-b09d-303ec2073d7e"
      },
      "execution_count": 33,
      "outputs": [
        {
          "output_type": "stream",
          "name": "stdout",
          "text": [
            "Alex Sandro Lopes da Silva Junior\n",
            "<class 'str'>\n",
            "<class 'bool'>\n"
          ]
        }
      ]
    },
    {
      "cell_type": "code",
      "source": [
        "numero = int(input('Digite um número: '))\n"
      ],
      "metadata": {
        "colab": {
          "base_uri": "https://localhost:8080/"
        },
        "id": "SOYzo_C5H2xv",
        "outputId": "6fe9c48d-cb99-4c6b-ff1d-9e737098ee7d"
      },
      "execution_count": 52,
      "outputs": [
        {
          "name": "stdout",
          "output_type": "stream",
          "text": [
            "Digite um número: 18\n"
          ]
        }
      ]
    },
    {
      "cell_type": "code",
      "source": [
        "print(numero)"
      ],
      "metadata": {
        "colab": {
          "base_uri": "https://localhost:8080/"
        },
        "id": "FeywvqxeIB7N",
        "outputId": "1cf51091-d49e-46ce-c6f3-445ab106f80e"
      },
      "execution_count": 43,
      "outputs": [
        {
          "output_type": "stream",
          "name": "stdout",
          "text": [
            "1000\n"
          ]
        }
      ]
    },
    {
      "cell_type": "code",
      "source": [
        "numero =int(input('Informe sua idade: '))"
      ],
      "metadata": {
        "colab": {
          "base_uri": "https://localhost:8080/"
        },
        "id": "dqOJ3Z-SJYKE",
        "outputId": "8d79a896-0a0a-48aa-aadf-296a717e3ec0"
      },
      "execution_count": 59,
      "outputs": [
        {
          "name": "stdout",
          "output_type": "stream",
          "text": [
            "Informe sua idade: 17\n"
          ]
        }
      ]
    },
    {
      "cell_type": "code",
      "source": [
        "if numero >= 18:\n",
        "   print(numero,' anos pode dirigir')\n",
        "else:\n",
        "   print(numero,' não pode dirigir, se lascou')"
      ],
      "metadata": {
        "colab": {
          "base_uri": "https://localhost:8080/"
        },
        "id": "J69eUs1FJe_4",
        "outputId": "ec26f07b-9cb9-49da-9cc4-75ec9df2eda8"
      },
      "execution_count": 60,
      "outputs": [
        {
          "output_type": "stream",
          "name": "stdout",
          "text": [
            "17  não pode dirigir, se lascou\n"
          ]
        }
      ]
    }
  ]
}